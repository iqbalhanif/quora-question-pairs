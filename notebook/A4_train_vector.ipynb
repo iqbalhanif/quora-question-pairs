{
 "cells": [
  {
   "cell_type": "markdown",
   "metadata": {},
   "source": [
    "## using gensim doc2vec"
   ]
  },
  {
   "cell_type": "code",
   "execution_count": null,
   "metadata": {},
   "outputs": [],
   "source": [
    "import glob\n",
    "import pandas as pd\n",
    "from nltk.tokenize import word_tokenize\n",
    "\n",
    "from tqdm import tqdm"
   ]
  },
  {
   "cell_type": "code",
   "execution_count": null,
   "metadata": {},
   "outputs": [],
   "source": [
    "tqdm.pandas()"
   ]
  },
  {
   "cell_type": "code",
   "execution_count": null,
   "metadata": {},
   "outputs": [],
   "source": [
    "glob.glob(\"../data/cross_validation_data/1/*\")"
   ]
  },
  {
   "cell_type": "code",
   "execution_count": null,
   "metadata": {},
   "outputs": [],
   "source": [
    "print(\"reading csv\")"
   ]
  },
  {
   "cell_type": "code",
   "execution_count": null,
   "metadata": {},
   "outputs": [],
   "source": [
    "d_train = pd.read_csv(\"../data/cross_validation_data/1/train.csv\", sep=\"\\t\")\n",
    "d_test = pd.read_csv(\"../data/cross_validation_data/1/test.csv\", sep=\"\\t\")"
   ]
  },
  {
   "cell_type": "code",
   "execution_count": null,
   "metadata": {},
   "outputs": [],
   "source": [
    "def remove_row_nan(df):\n",
    "    df = df.dropna(axis = 0)\n",
    "    return df"
   ]
  },
  {
   "cell_type": "code",
   "execution_count": null,
   "metadata": {},
   "outputs": [],
   "source": [
    "print(\"removing nan\")"
   ]
  },
  {
   "cell_type": "code",
   "execution_count": null,
   "metadata": {},
   "outputs": [],
   "source": [
    "d_train, d_test = remove_row_nan(d_train), remove_row_nan(d_test)"
   ]
  },
  {
   "cell_type": "code",
   "execution_count": null,
   "metadata": {},
   "outputs": [],
   "source": [
    "print(\"lower string\")"
   ]
  },
  {
   "cell_type": "code",
   "execution_count": null,
   "metadata": {},
   "outputs": [],
   "source": [
    "d_train[\"question1\"]=d_train.question1.str.lower()\n",
    "d_train[\"question2\"]=d_train.question2.str.lower()\n",
    "d_test[\"question1\"]=d_test.question1.str.lower()\n",
    "d_test[\"question2\"]=d_test.question2.str.lower()"
   ]
  },
  {
   "cell_type": "code",
   "execution_count": null,
   "metadata": {},
   "outputs": [],
   "source": [
    "print(\"tokenizing word\")"
   ]
  },
  {
   "cell_type": "code",
   "execution_count": null,
   "metadata": {},
   "outputs": [],
   "source": [
    "d_train[\"token_q1\"] = d_train.question1.apply(word_tokenize)\n",
    "d_train[\"token_q2\"] = d_train.question2.apply(word_tokenize)"
   ]
  },
  {
   "cell_type": "code",
   "execution_count": null,
   "metadata": {},
   "outputs": [],
   "source": [
    "print(\"creating corpus\")"
   ]
  },
  {
   "cell_type": "code",
   "execution_count": null,
   "metadata": {},
   "outputs": [],
   "source": [
    "corpus = d_train.token_q1.to_list() + d_train.token_q2.to_list()"
   ]
  },
  {
   "cell_type": "code",
   "execution_count": 2,
   "metadata": {},
   "outputs": [],
   "source": [
    "from gensim.test.utils import common_texts\n",
    "from gensim.models.doc2vec import Doc2Vec, TaggedDocument"
   ]
  },
  {
   "cell_type": "code",
   "execution_count": null,
   "metadata": {},
   "outputs": [],
   "source": [
    "print(\"length corpus:\", len(corpus))"
   ]
  },
  {
   "cell_type": "code",
   "execution_count": null,
   "metadata": {},
   "outputs": [],
   "source": [
    "print(\"creating tagged document\")"
   ]
  },
  {
   "cell_type": "code",
   "execution_count": null,
   "metadata": {},
   "outputs": [],
   "source": [
    "documents = [TaggedDocument(doc, [i]) for i, doc in enumerate(corpus)]"
   ]
  },
  {
   "cell_type": "code",
   "execution_count": null,
   "metadata": {},
   "outputs": [],
   "source": [
    "print(\"building doc2vec\")"
   ]
  },
  {
   "cell_type": "code",
   "execution_count": null,
   "metadata": {},
   "outputs": [],
   "source": [
    "model = Doc2Vec(documents, vector_size=128, window=2, min_count=10, workers=4)"
   ]
  },
  {
   "cell_type": "code",
   "execution_count": null,
   "metadata": {},
   "outputs": [],
   "source": [
    "print(\"save model\")"
   ]
  },
  {
   "cell_type": "code",
   "execution_count": null,
   "metadata": {},
   "outputs": [],
   "source": [
    "model.save(\"docvec\")"
   ]
  },
  {
   "cell_type": "code",
   "execution_count": null,
   "metadata": {},
   "outputs": [],
   "source": [
    "print(\"done\")"
   ]
  },
  {
   "cell_type": "code",
   "execution_count": 6,
   "metadata": {},
   "outputs": [],
   "source": []
  },
  {
   "cell_type": "code",
   "execution_count": 10,
   "metadata": {},
   "outputs": [
    {
     "name": "stdout",
     "output_type": "stream",
     "text": [
      "1.17.4\n",
      "3.8.0\n",
      "1.4.1\n"
     ]
    }
   ],
   "source": [
    "import numpy as np\n",
    "import gensim\n",
    "import scipy\n",
    "print(np.__version__)\n",
    "print(gensim.__version__)\n",
    "print(scipy.__version__)"
   ]
  },
  {
   "cell_type": "code",
   "execution_count": 3,
   "metadata": {},
   "outputs": [],
   "source": [
    "model = Doc2Vec.load(\"../data/resources/docvec\")"
   ]
  },
  {
   "cell_type": "code",
   "execution_count": 4,
   "metadata": {},
   "outputs": [
    {
     "data": {
      "text/plain": [
       "array([ 3.0079054e-02, -8.1883557e-04, -3.4103159e-02,  5.6203216e-02,\n",
       "        1.3287067e-02,  9.5929578e-03, -1.0291860e-02,  7.5030187e-03,\n",
       "       -1.9734222e-03,  6.0621705e-03,  9.1177635e-03, -2.1957539e-02,\n",
       "       -5.3026428e-04,  1.3007862e-02,  2.3858637e-02,  4.4290600e-03,\n",
       "        8.9559885e-04,  3.3677801e-02, -1.6240969e-02, -9.0737436e-03,\n",
       "        1.0757735e-02, -7.2356923e-03,  1.3366420e-04,  1.7594529e-02,\n",
       "        3.0987356e-02, -2.4459340e-02, -4.8730206e-02,  3.7617337e-02,\n",
       "        3.8791586e-02,  2.6294166e-02,  2.0356379e-02, -2.2179957e-02,\n",
       "        4.7264598e-02,  3.7191764e-02,  1.5811352e-02,  3.0164875e-02,\n",
       "       -6.4158058e-03, -5.0540995e-03,  7.4361794e-02, -3.2045614e-02,\n",
       "        2.8220035e-02,  5.8442163e-03,  1.4935698e-03,  2.8745953e-02,\n",
       "        3.1649310e-02,  2.9034408e-02,  6.6511948e-03,  6.6295345e-03,\n",
       "       -1.7518697e-02,  2.0652642e-02,  1.6402680e-02,  3.9119287e-03,\n",
       "       -3.5273898e-02, -4.9561206e-02,  1.2328478e-02, -1.9460229e-02,\n",
       "        3.3219442e-02,  2.6620449e-02,  9.5114969e-03,  3.1426443e-06,\n",
       "        2.0785689e-02, -5.2104358e-02,  3.2503564e-02,  2.9101579e-02,\n",
       "       -3.5739217e-02,  1.6365128e-02, -5.9253071e-03, -2.0008745e-02,\n",
       "       -6.0532935e-02, -2.4263054e-02, -8.9424076e-03,  2.3770301e-02,\n",
       "        2.6360126e-02, -2.1785835e-02, -3.0988812e-02,  7.5680474e-03,\n",
       "       -3.9289128e-02, -7.0903078e-03, -3.0190010e-02, -7.8291623e-03,\n",
       "        3.2594696e-02,  3.2710381e-02, -3.6287447e-03, -2.3211292e-03,\n",
       "       -7.2089252e-03,  6.5515796e-03, -2.3979571e-02,  3.3787046e-02,\n",
       "        2.8350621e-02, -8.6239707e-03, -1.7892335e-02, -2.3547003e-02,\n",
       "        2.0541038e-02,  1.3058473e-03, -3.0947449e-02,  3.2438572e-02,\n",
       "        7.1939882e-03,  3.3830293e-02, -9.4984993e-03,  1.7338699e-02,\n",
       "        5.1781218e-02,  2.1052225e-02, -1.2623382e-02, -6.6548279e-03,\n",
       "        1.9742744e-02, -3.9634123e-02,  2.0751853e-02,  2.2039508e-02,\n",
       "       -5.7777829e-02,  2.0498857e-02, -5.9887129e-03, -1.9016175e-03,\n",
       "       -7.7414527e-03, -2.5379077e-02,  6.4287623e-03,  4.6834432e-02,\n",
       "       -1.6735758e-03, -4.3669242e-02, -2.6649470e-02, -4.4644833e-02,\n",
       "       -1.5048097e-02, -4.0030587e-02,  2.1345498e-02,  2.7518526e-02,\n",
       "        1.1031986e-02,  2.8002106e-02, -3.8496442e-03,  2.5318807e-03],\n",
       "      dtype=float32)"
      ]
     },
     "execution_count": 4,
     "metadata": {},
     "output_type": "execute_result"
    }
   ],
   "source": [
    "model.infer_vector([\"i\", \"want\"])"
   ]
  },
  {
   "cell_type": "code",
   "execution_count": null,
   "metadata": {},
   "outputs": [],
   "source": []
  }
 ],
 "metadata": {
  "kernelspec": {
   "display_name": "Python 3",
   "language": "python",
   "name": "python3"
  },
  "language_info": {
   "codemirror_mode": {
    "name": "ipython",
    "version": 3
   },
   "file_extension": ".py",
   "mimetype": "text/x-python",
   "name": "python",
   "nbconvert_exporter": "python",
   "pygments_lexer": "ipython3",
   "version": "3.7.3"
  }
 },
 "nbformat": 4,
 "nbformat_minor": 4
}
