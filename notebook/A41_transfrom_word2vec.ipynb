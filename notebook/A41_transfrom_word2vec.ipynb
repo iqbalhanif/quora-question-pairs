{
 "cells": [
  {
   "cell_type": "markdown",
   "metadata": {},
   "source": [
    "### Transform Words into Vector using Doc2Vec"
   ]
  },
  {
   "cell_type": "code",
   "execution_count": null,
   "metadata": {},
   "outputs": [],
   "source": [
    "import os\n",
    "import glob\n",
    "import pickle\n",
    "import string\n",
    "from datetime import datetime\n",
    "from tqdm import tqdm, notebook\n",
    "\n",
    "from cleansing import clean_text\n",
    "\n",
    "import pandas as pd\n",
    "import numpy as np\n",
    "import scipy\n",
    "from nltk.tokenize import word_tokenize\n",
    "from nltk.corpus import stopwords\n",
    "\n",
    "from sklearn.metrics import accuracy_score, precision_score, recall_score, f1_score"
   ]
  },
  {
   "cell_type": "code",
   "execution_count": null,
   "metadata": {},
   "outputs": [],
   "source": [
    "pd.set_option(\"display.max_rows\", 10)"
   ]
  },
  {
   "cell_type": "code",
   "execution_count": null,
   "metadata": {},
   "outputs": [],
   "source": [
    "tqdm.pandas()"
   ]
  },
  {
   "cell_type": "code",
   "execution_count": null,
   "metadata": {},
   "outputs": [],
   "source": [
    "from nltk.corpus import stopwords"
   ]
  },
  {
   "cell_type": "code",
   "execution_count": null,
   "metadata": {},
   "outputs": [],
   "source": [
    "split_folders = glob.glob('../data/cross_validation_data/*')"
   ]
  },
  {
   "cell_type": "code",
   "execution_count": null,
   "metadata": {},
   "outputs": [],
   "source": [
    "from gensim.models.doc2vec import Doc2Vec, TaggedDocument\n",
    "model = Doc2Vec.load(\"docvec\")"
   ]
  },
  {
   "cell_type": "code",
   "execution_count": null,
   "metadata": {},
   "outputs": [],
   "source": [
    "def read_csv(path):\n",
    "    d_data = pd.read_csv(path, sep='\\t')\n",
    "    \n",
    "    return d_data\n",
    "\n",
    "def remove_row_nan(df):\n",
    "    df = df.dropna(axis = 0)\n",
    "    return df\n",
    "\n",
    "table = str.maketrans('', '', string.punctuation)\n",
    "\n",
    "def remove_punctuation(text):\n",
    "    return text.translate(table)\n",
    "\n",
    "def simple_cleansing(text):\n",
    "    text = text.lower()\n",
    "    text = remove_punctuation(text)\n",
    "    stopword = stopwords.words('english')\n",
    "    word_list = text.split()\n",
    "    word_clean = [word for word in word_list if word not in stopword]\n",
    "    text = \" \".join(word_clean)\n",
    "    \n",
    "    return text"
   ]
  },
  {
   "cell_type": "code",
   "execution_count": null,
   "metadata": {},
   "outputs": [],
   "source": [
    "def metrics(y_true, y_pred):\n",
    "    accu = accuracy_score(y_true, y_pred)\n",
    "    prec = precision_score(y_true, y_pred)\n",
    "    reca = recall_score(y_true, y_pred)\n",
    "    f1 = f1_score(y_true, y_pred)\n",
    "    \n",
    "    return {\"accuracy\": accu, \"precision\": prec, \"recall\": reca, \"f1_score\": f1}"
   ]
  },
  {
   "cell_type": "code",
   "execution_count": null,
   "metadata": {},
   "outputs": [],
   "source": [
    "test = False"
   ]
  },
  {
   "cell_type": "code",
   "execution_count": null,
   "metadata": {},
   "outputs": [],
   "source": [
    "score_list = []\n",
    "for split_index, path in enumerate(split_folders, 1):\n",
    "    test_path, train_path = glob.glob(os.path.join(path, '*'))\n",
    "    print(\"read data\")\n",
    "    d_train, d_test = read_csv(train_path), read_csv(test_path)\n",
    "    print(\"remove nan\")\n",
    "    d_train, d_test = remove_row_nan(d_train), remove_row_nan(d_test)\n",
    "    \n",
    "    ## shuffle row data\n",
    "    d_train = d_train.sample(frac=1)\n",
    "    d_test = d_test.sample(frac=1)\n",
    "    \n",
    "    ## reset index\n",
    "    d_train.reset_index(inplace=True)\n",
    "    d_test.reset_index(inplace=True)\n",
    "    \n",
    "    if test:\n",
    "        d_train = d_train.loc[:99, :]\n",
    "        d_test = d_test.loc[:99, :]\n",
    "    \n",
    "    ## cleansing step\n",
    "    print(\"cleansing...\")\n",
    "    d_train[\"q1_clean\"] = d_train.question1.progress_apply(clean_text)\n",
    "    d_train[\"q2_clean\"] = d_train.question2.progress_apply(clean_text)\n",
    "    d_test[\"q1_clean\"] = d_test.question1.progress_apply(clean_text)\n",
    "    d_test[\"q2_clean\"] = d_test.question2.progress_apply(clean_text)\n",
    "    \n",
    "    print(\"tokenizing...\")\n",
    "    d_train[\"q1_token\"] = d_train.q1_clean.progress_apply(word_tokenize)\n",
    "    d_train[\"q2_token\"] = d_train.q2_clean.progress_apply(word_tokenize)\n",
    "    d_test[\"q1_token\"] = d_test.q1_clean.progress_apply(word_tokenize)\n",
    "    d_test[\"q2_token\"] = d_test.q2_clean.progress_apply(word_tokenize)\n",
    "    \n",
    "    print(\"transforming...\")\n",
    "    d_train[\"q1_vector\"] = d_train.q1_token.progress_apply(model.infer_vector)\n",
    "    d_train[\"q2_vector\"] = d_train.q2_token.progress_apply(model.infer_vector)\n",
    "    d_test[\"q1_vector\"] = d_test.q1_token.progress_apply(model.infer_vector)\n",
    "    d_test[\"q2_vector\"] = d_test.q2_token.progress_apply(model.infer_vector)\n",
    "    \n",
    "    break"
   ]
  },
  {
   "cell_type": "code",
   "execution_count": null,
   "metadata": {},
   "outputs": [],
   "source": [
    "pickle.dump((d_train, d_test), open('data_transformed.pkl', 'wb'))"
   ]
  },
  {
   "cell_type": "code",
   "execution_count": null,
   "metadata": {},
   "outputs": [],
   "source": [
    "d_train.shape"
   ]
  },
  {
   "cell_type": "code",
   "execution_count": null,
   "metadata": {},
   "outputs": [],
   "source": [
    "d_test.shape"
   ]
  },
  {
   "cell_type": "code",
   "execution_count": null,
   "metadata": {},
   "outputs": [],
   "source": [
    "d_data = pd.concat((d_train, d_test), axis = 0)"
   ]
  },
  {
   "cell_type": "code",
   "execution_count": null,
   "metadata": {},
   "outputs": [],
   "source": [
    "d_data.reset_index(drop=True, inplace=True)"
   ]
  },
  {
   "cell_type": "code",
   "execution_count": null,
   "metadata": {},
   "outputs": [],
   "source": [
    "pickle.dump(d_data, open('../data/transformed/data.pkl', 'wb'))"
   ]
  },
  {
   "cell_type": "code",
   "execution_count": null,
   "metadata": {},
   "outputs": [],
   "source": [
    "d_data.shape"
   ]
  },
  {
   "cell_type": "code",
   "execution_count": null,
   "metadata": {},
   "outputs": [],
   "source": []
  }
 ],
 "metadata": {
  "kernelspec": {
   "display_name": "Python 3",
   "language": "python",
   "name": "python3"
  },
  "language_info": {
   "codemirror_mode": {
    "name": "ipython",
    "version": 3
   },
   "file_extension": ".py",
   "mimetype": "text/x-python",
   "name": "python",
   "nbconvert_exporter": "python",
   "pygments_lexer": "ipython3",
   "version": "3.7.3"
  }
 },
 "nbformat": 4,
 "nbformat_minor": 4
}
