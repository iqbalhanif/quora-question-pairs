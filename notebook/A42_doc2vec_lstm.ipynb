{
 "cells": [
  {
   "cell_type": "markdown",
   "metadata": {},
   "source": [
    "### Modeling Quora using Doc2Vec & LSTM"
   ]
  },
  {
   "cell_type": "code",
   "execution_count": 1,
   "metadata": {},
   "outputs": [],
   "source": [
    "import os\n",
    "import glob\n",
    "import time\n",
    "import pickle\n",
    "import pandas as pd\n",
    "import numpy as np\n",
    "\n",
    "import torch\n",
    "import torch.nn as nn\n",
    "import torch.optim as optim\n",
    "from torch.utils.data import DataLoader, Dataset"
   ]
  },
  {
   "cell_type": "code",
   "execution_count": 2,
   "metadata": {},
   "outputs": [],
   "source": [
    "device = \"cuda\" if torch.cuda.is_available() else \"cpu\""
   ]
  },
  {
   "cell_type": "code",
   "execution_count": 3,
   "metadata": {},
   "outputs": [],
   "source": [
    "transformed_path = '../data/transformed'\n",
    "cross_val_path = '../data/cross_validation_data'"
   ]
  },
  {
   "cell_type": "code",
   "execution_count": 4,
   "metadata": {},
   "outputs": [],
   "source": [
    "file_cross_val_path = glob.glob(os.path.join(cross_val_path, '*', '*'))"
   ]
  },
  {
   "cell_type": "code",
   "execution_count": 5,
   "metadata": {},
   "outputs": [
    {
     "data": {
      "text/plain": [
       "[]"
      ]
     },
     "execution_count": 5,
     "metadata": {},
     "output_type": "execute_result"
    }
   ],
   "source": [
    "glob.glob(os.path.join(transformed_path, '*'))"
   ]
  },
  {
   "cell_type": "code",
   "execution_count": null,
   "metadata": {},
   "outputs": [],
   "source": [
    "d_data = pickle.load(open('../data/transformed/data.pkl', 'rb'))"
   ]
  },
  {
   "cell_type": "code",
   "execution_count": null,
   "metadata": {},
   "outputs": [],
   "source": [
    "d_data.head()"
   ]
  },
  {
   "cell_type": "code",
   "execution_count": null,
   "metadata": {},
   "outputs": [],
   "source": [
    "file_cross_val_path"
   ]
  },
  {
   "cell_type": "code",
   "execution_count": null,
   "metadata": {},
   "outputs": [],
   "source": [
    "class DatasetPairs(Dataset):\n",
    "    def __init__(self, d_data, cross_val_paths):\n",
    "        self.dataset = d_data\n",
    "        self.split_dict = self.get_id_cross_val(cross_val_paths)\n",
    "        \n",
    "        self.splited_data(k=1)\n",
    "        self.set_split(split='train')\n",
    "    \n",
    "    def read_csv(self, path):\n",
    "        d_data = pd.read_csv(path, sep='\\t')\n",
    "        return d_data\n",
    "    \n",
    "    def get_id_cross_val(self, paths):\n",
    "        data_dict = {}\n",
    "        path_dict = dict((file.split('/')[-2], file) for file in paths)\n",
    "        for k, path in path_dict.items():\n",
    "            train = self.read_csv(path)\n",
    "            id_train = train.id.tolist()\n",
    "            \n",
    "            path = path.replace('train.csv', 'test.csv')\n",
    "            test = self.read_csv(path)\n",
    "            id_test = test.id.tolist()\n",
    "            \n",
    "            data_dict[int(k)] = (id_train, id_test)\n",
    "            \n",
    "        return data_dict\n",
    "\n",
    "    def splited_data(self, k):\n",
    "        id_train, id_test = self.split_dict[k]\n",
    "        train = self.dataset[self.dataset.id.isin(id_train)]\n",
    "        test = self.dataset[self.dataset.id.isin(id_test)]\n",
    "        \n",
    "        train.reset_index(drop=True, inplace=True)\n",
    "        test.reset_index(drop=True, inplace=True)\n",
    "        \n",
    "        self.data_dict = {'train': (train, len(train)), 'test': (test, len(test))}\n",
    "        \n",
    "    def set_split(self, split='train'):\n",
    "        self.data, self.length = self.data_dict[split]\n",
    "    \n",
    "    def __getitem__(self, idx):\n",
    "        q1 = self.data.loc[idx, \"q1_vector\"]\n",
    "        q2 = self.data.loc[idx, \"q2_vector\"]\n",
    "        x  = np.concatenate((dataset.data.loc[0, \"q1_vector\"], \n",
    "                             dataset.data.loc[0, \"q1_vector\"]))\n",
    "        y  = self.data.loc[idx, \"is_duplicate\"]\n",
    "        \n",
    "        x = torch.Tensor(x)\n",
    "        y = torch.LongTensor([y])\n",
    "        \n",
    "        return (x, y)\n",
    "    \n",
    "    def __len__(self):\n",
    "        return self.length"
   ]
  },
  {
   "cell_type": "code",
   "execution_count": null,
   "metadata": {},
   "outputs": [],
   "source": [
    "class Classifier(nn.Module):\n",
    "    def __init__(self, vec_size, l1, l2, num_class):\n",
    "        super(Classifier, self).__init__()\n",
    "        self.fc1 = nn.Linear(vec_size*2, l1)\n",
    "        self.fc2 = nn.Linear(l1, l1)\n",
    "        self.fc3 = nn.Linear(l1, l2)\n",
    "        self.fc4 = nn.Linear(l2, num_class)\n",
    "        \n",
    "    def forward(self, x):\n",
    "        out = self.fc1(x)\n",
    "        out = self.fc2(out)\n",
    "        out = self.fc3(out)\n",
    "        out = self.fc4(out)\n",
    "        \n",
    "        return out"
   ]
  },
  {
   "cell_type": "code",
   "execution_count": null,
   "metadata": {},
   "outputs": [],
   "source": [
    "dataset = DatasetPairs(d_data, file_cross_val_path)"
   ]
  },
  {
   "cell_type": "code",
   "execution_count": null,
   "metadata": {},
   "outputs": [],
   "source": [
    "vec_q = 128\n",
    "l1 = 1024\n",
    "l2 =512\n",
    "num_class = 2\n",
    "\n",
    "batchsize = 512"
   ]
  },
  {
   "cell_type": "code",
   "execution_count": null,
   "metadata": {},
   "outputs": [],
   "source": [
    "model = Classifier(vec_q, l1, l2, num_class)\n",
    "model = model.to(device)"
   ]
  },
  {
   "cell_type": "code",
   "execution_count": null,
   "metadata": {},
   "outputs": [],
   "source": [
    "parameters = sum(p.numel() for p in model.parameters() if p.requires_grad)\n",
    "\n",
    "print(f'the model has {parameters:,} trainable parameters')"
   ]
  },
  {
   "cell_type": "code",
   "execution_count": null,
   "metadata": {},
   "outputs": [],
   "source": [
    "optimizer = optim.Adam(model.parameters(), lr = 1e-4)\n",
    "criterion = nn.CrossEntropyLoss()"
   ]
  },
  {
   "cell_type": "code",
   "execution_count": null,
   "metadata": {},
   "outputs": [],
   "source": [
    "def compute_accuracy(y, y_pred):\n",
    "    y_label = y_pred.argmax(dim=1)\n",
    "    n_correct = torch.eq(y, y_label).sum().item()\n",
    "    accuracy = (n_correct / len(y_label)) * 100\n",
    "    \n",
    "    return accuracy"
   ]
  },
  {
   "cell_type": "code",
   "execution_count": null,
   "metadata": {},
   "outputs": [],
   "source": [
    "def compute_time(start, end):\n",
    "    duration = end - start\n",
    "    m = int(duration / 60)\n",
    "    s = int(duration % 60)\n",
    "    \n",
    "    return m, s"
   ]
  },
  {
   "cell_type": "code",
   "execution_count": null,
   "metadata": {
    "scrolled": true
   },
   "outputs": [],
   "source": [
    "for epoch in range(1, 51):\n",
    "    \n",
    "    start = time.time()\n",
    "    \n",
    "    running_loss = 0\n",
    "    running_accu = 0\n",
    "    running_loss_v = 0\n",
    "    running_accu_v = 0\n",
    "    \n",
    "    dataset.set_split(\"train\")\n",
    "    data_gen = DataLoader(dataset, batch_size=batchsize)\n",
    "    model.train()\n",
    "    for batch_index, (x, y) in enumerate(data_gen, 1):\n",
    "        optimizer.zero_grad()\n",
    "        \n",
    "        x = x.to(device)\n",
    "        y = y.squeeze()\n",
    "        \n",
    "        out = model(x)\n",
    "        out = out.to(\"cpu\")\n",
    "        \n",
    "        loss = criterion(out, y)\n",
    "        loss_ = loss.item()\n",
    "        running_loss += (loss_ - running_loss) / batch_index\n",
    "        \n",
    "        accu = compute_accuracy(y, out)\n",
    "        running_accu += (accu - running_accu) / batch_index\n",
    "        \n",
    "        loss.backward()\n",
    "        optimizer.step()\n",
    "        \n",
    "    dataset.set_split(\"test\")\n",
    "    data_gen = DataLoader(dataset, batch_size=batchsize)\n",
    "    model.eval()\n",
    "    for batch_index, (x, y) in enumerate(data_gen, 1):\n",
    "        optimizer.zero_grad()\n",
    "        \n",
    "        x = x.to(device)\n",
    "        y = y.squeeze()\n",
    "        \n",
    "        out = model(x)\n",
    "        out = out.to(\"cpu\")\n",
    "        \n",
    "        loss = criterion(out, y)\n",
    "        loss_ = loss.item()\n",
    "        running_loss_v += (loss_ - running_loss_v) / batch_index\n",
    "        \n",
    "        accu = compute_accuracy(y, out)\n",
    "        running_accu_v += (accu - running_accu_v) / batch_index\n",
    "        \n",
    "    end = time.time()\n",
    "    m, s = compute_time(start, end)\n",
    "    \n",
    "    print(f'epoch {epoch} | {m}m {s}s')\n",
    "    print(f'\\ttrain loss: {running_loss:.2f} | train accuracy {running_accu:.2f}')\n",
    "    print(f'\\tval loss: {running_loss_v:.2f} | val accuracy {running_accu_v:.2f}')"
   ]
  },
  {
   "cell_type": "code",
   "execution_count": null,
   "metadata": {},
   "outputs": [],
   "source": []
  }
 ],
 "metadata": {
  "kernelspec": {
   "display_name": "Python 3",
   "language": "python",
   "name": "python3"
  },
  "language_info": {
   "codemirror_mode": {
    "name": "ipython",
    "version": 3
   },
   "file_extension": ".py",
   "mimetype": "text/x-python",
   "name": "python",
   "nbconvert_exporter": "python",
   "pygments_lexer": "ipython3",
   "version": "3.7.3"
  }
 },
 "nbformat": 4,
 "nbformat_minor": 4
}
