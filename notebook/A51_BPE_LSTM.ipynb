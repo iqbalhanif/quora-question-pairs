{
 "cells": [
  {
   "cell_type": "code",
   "execution_count": null,
   "metadata": {},
   "outputs": [],
   "source": [
    "import os\n",
    "import glob\n",
    "import time\n",
    "import pickle\n",
    "import pandas as pd\n",
    "\n",
    "from tokenizers import BertWordPieceTokenizer\n",
    "\n",
    "import torch\n",
    "import torch.nn as nn\n",
    "import torch.optim as optim\n",
    "from torch.utils.data import Dataset, DataLoader\n",
    "from torch.nn.utils.rnn import pad_sequence"
   ]
  },
  {
   "cell_type": "code",
   "execution_count": null,
   "metadata": {},
   "outputs": [],
   "source": [
    "device = \"cuda\" if torch.cuda.is_available() else \"cpu\""
   ]
  },
  {
   "cell_type": "code",
   "execution_count": null,
   "metadata": {},
   "outputs": [],
   "source": [
    "cross_path = '../data/cross_validation_data'\n",
    "trans_path = '../data/transformed'\n",
    "model_path = '../data/bert-case'"
   ]
  },
  {
   "cell_type": "code",
   "execution_count": null,
   "metadata": {},
   "outputs": [],
   "source": [
    "file_path = glob.glob(os.path.join(trans_path, '*'))"
   ]
  },
  {
   "cell_type": "code",
   "execution_count": null,
   "metadata": {},
   "outputs": [],
   "source": [
    "cross_val_path = glob.glob(os.path.join(cross_path, '*', '*'))"
   ]
  },
  {
   "cell_type": "code",
   "execution_count": null,
   "metadata": {},
   "outputs": [],
   "source": [
    "class DatasetPairs(Dataset):\n",
    "    def __init__(self, file_path, cross_val_paths, model_path):\n",
    "        self.dataset = self.read_pickle(file_path)\n",
    "        self.split_dict = self.get_id_cross_val(cross_val_paths)\n",
    "        self.tokenizer = self.get_tokenizer(model_path)\n",
    "        self.splited_data(k=1)\n",
    "        self.set_split(split='train')\n",
    "    \n",
    "    def read_pickle(self, path):\n",
    "        data = pickle.load(open(path, 'rb'))\n",
    "        \n",
    "        return data\n",
    "    \n",
    "    def read_csv(self, path):\n",
    "        d_data = pd.read_csv(path, sep='\\t')\n",
    "        return d_data\n",
    "    \n",
    "    def get_id_cross_val(self, paths):\n",
    "        data_dict = {}\n",
    "        path_dict = dict((file.split('/')[-2], file) for file in paths)\n",
    "        for k, path in path_dict.items():\n",
    "            train = self.read_csv(path)\n",
    "            id_train = train.id.tolist()\n",
    "            \n",
    "            path = path.replace('train.csv', 'test.csv')\n",
    "            test = self.read_csv(path)\n",
    "            id_test = test.id.tolist()\n",
    "            \n",
    "            data_dict[int(k)] = (id_train, id_test)\n",
    "            \n",
    "        return data_dict\n",
    "    \n",
    "    def get_tokenizer(self, path):\n",
    "        tokenizer = BertWordPieceTokenizer(os.path.join(path, 'vocab.txt'))\n",
    "        return tokenizer\n",
    "    \n",
    "    def splited_data(self, k):\n",
    "        id_train, id_test = self.split_dict[k]\n",
    "        train = self.dataset[self.dataset.id.isin(id_train)]\n",
    "        test = self.dataset[self.dataset.id.isin(id_test)]\n",
    "        \n",
    "        train.reset_index(drop=True, inplace=True)\n",
    "        test.reset_index(drop=True, inplace=True)\n",
    "        \n",
    "        self.data_dict = {'train': (train, len(train)), 'test': (test, len(test))}\n",
    "        \n",
    "    def set_split(self, split='train'):\n",
    "        self.data, self.length = self.data_dict[split]\n",
    "    \n",
    "    def __getitem__(self, idx):\n",
    "        q1 = self.data.loc[idx, \"question1\"]\n",
    "        q2 = self.data.loc[idx, \"question2\"]\n",
    "        \n",
    "        x_raw = self.tokenizer.encode(q1, q2)\n",
    "        x = x_raw.ids\n",
    "        y  = self.data.loc[idx, \"is_duplicate\"]\n",
    "        \n",
    "        x = torch.LongTensor(x)\n",
    "        y = torch.LongTensor([y])\n",
    "        \n",
    "        return (x, y)\n",
    "    \n",
    "    def __len__(self):\n",
    "        return self.length"
   ]
  },
  {
   "cell_type": "code",
   "execution_count": null,
   "metadata": {},
   "outputs": [],
   "source": [
    "class QuoraClassifier(nn.Module):\n",
    "    def __init__(self, num_vocab, emb_size, hid_size, num_class):\n",
    "        super(QuoraClassifier, self).__init__()\n",
    "        self.emb = nn.Embedding(num_vocab, emb_size)\n",
    "        self.lstm = nn.LSTM(emb_size, hid_size, batch_first=True)\n",
    "        self.fc = nn.Linear(hid_size, num_class)\n",
    "        \n",
    "    def forward(self, input_):\n",
    "        out = self.emb(input_)\n",
    "        out, (h, c) = self.lstm(out)\n",
    "        out = out[:, -1, :]\n",
    "        out = self.fc(out)\n",
    "        \n",
    "        return out"
   ]
  },
  {
   "cell_type": "code",
   "execution_count": null,
   "metadata": {},
   "outputs": [],
   "source": [
    "dataset = DatasetPairs(file_path[0], cross_val_path, model_path)"
   ]
  },
  {
   "cell_type": "code",
   "execution_count": null,
   "metadata": {},
   "outputs": [],
   "source": [
    "num_vocab = dataset.tokenizer.get_vocab_size()\n",
    "emb_size = 512\n",
    "hid_size = 512\n",
    "num_class = 2\n",
    "batchsize = 256"
   ]
  },
  {
   "cell_type": "code",
   "execution_count": null,
   "metadata": {},
   "outputs": [],
   "source": [
    "model = QuoraClassifier(num_vocab, emb_size, hid_size, num_class)\n",
    "model = model.to(device)"
   ]
  },
  {
   "cell_type": "code",
   "execution_count": null,
   "metadata": {},
   "outputs": [],
   "source": [
    "parameters = sum(p.numel() for p in model.parameters())\n",
    "print(f'model has {parameters:,} trainable parameters')"
   ]
  },
  {
   "cell_type": "code",
   "execution_count": null,
   "metadata": {},
   "outputs": [],
   "source": [
    "optimizer = optim.Adam(model.parameters(), lr = 1e-3)\n",
    "criterion = nn.CrossEntropyLoss()"
   ]
  },
  {
   "cell_type": "code",
   "execution_count": null,
   "metadata": {},
   "outputs": [],
   "source": [
    "def compute_accuracy(y, y_pred):\n",
    "    y_label = y_pred.argmax(dim=1)\n",
    "    n_correct = torch.eq(y, y_label).sum().item()\n",
    "    accuracy = (n_correct / len(y_label)) * 100\n",
    "    \n",
    "    return accuracy"
   ]
  },
  {
   "cell_type": "code",
   "execution_count": null,
   "metadata": {},
   "outputs": [],
   "source": [
    "def compute_time(start, end):\n",
    "    duration = end - start\n",
    "    m = int(duration / 60)\n",
    "    s = int(duration % 60)\n",
    "    \n",
    "    return m, s"
   ]
  },
  {
   "cell_type": "code",
   "execution_count": null,
   "metadata": {},
   "outputs": [],
   "source": [
    "def padding(data):\n",
    "    x_list = []\n",
    "    y_list = []\n",
    "    for x, y in data:\n",
    "        x_list.append(x)\n",
    "        y_list.append(y)\n",
    "        \n",
    "    x_pad = pad_sequence(x_list, batch_first=True)\n",
    "    y_pad = pad_sequence(y_list, batch_first=True)\n",
    "    \n",
    "    return x_pad, y_pad"
   ]
  },
  {
   "cell_type": "code",
   "execution_count": null,
   "metadata": {},
   "outputs": [],
   "source": [
    "history = {\"running_loss\": [], \"running_loss_v\": [], \"running_accu\": [], \"running_accu_v\": []}"
   ]
  },
  {
   "cell_type": "code",
   "execution_count": null,
   "metadata": {
    "scrolled": true
   },
   "outputs": [],
   "source": [
    "for epoch in range(1, 51):\n",
    "    \n",
    "    running_loss = 0\n",
    "    running_loss_v = 0\n",
    "    running_accu = 0\n",
    "    running_accu_v = 0\n",
    "    \n",
    "    start = time.time()\n",
    "    \n",
    "    dataset.set_split(\"train\")\n",
    "    data_gen = DataLoader(dataset, batch_size=batchsize, collate_fn=padding)\n",
    "    model.train()\n",
    "    for batch_index, (x, y) in enumerate(data_gen, 1):\n",
    "        optimizer.zero_grad()\n",
    "        x = x.to(device)\n",
    "        y = y.squeeze().to(device)\n",
    "        \n",
    "        out = model(x)\n",
    "        \n",
    "        loss = criterion(out, y)\n",
    "        loss_ = loss.item()\n",
    "        running_loss += (loss_ - running_loss) / batch_index\n",
    "        \n",
    "        accuracy = compute_accuracy(y, out)\n",
    "        running_accu += (accuracy-running_accu) / batch_index\n",
    "        \n",
    "        loss.backward()\n",
    "        optimizer.step()\n",
    "        \n",
    "    dataset.set_split(\"test\")\n",
    "    data_gen = DataLoader(dataset, batch_size=batchsize, collate_fn=padding)\n",
    "    model.eval()\n",
    "    for batch_index, (x, y) in enumerate(data_gen, 1):\n",
    "        x = x.to(device)\n",
    "        y = y.squeeze().to(device)\n",
    "        \n",
    "        out = model(x)\n",
    "        \n",
    "        loss = criterion(out, y)\n",
    "        loss_ = loss.item()\n",
    "        running_loss_v += (loss_ - running_loss_v) / batch_index\n",
    "        \n",
    "        accuracy = compute_accuracy(y, out)\n",
    "        running_accu_v += (accuracy - running_accu_v) / batch_index\n",
    "        \n",
    "    end = time.time()\n",
    "    m, s = compute_time(start, end)\n",
    "    \n",
    "    print(f'{epoch} | {m}m {s}s')\n",
    "    print(f'\\ttrain loss: {running_loss:.2f} | train accuracy: {running_accu:.2f}')\n",
    "    print(f'\\tval loss: {running_loss_v:.2f} | val accuracy: {running_accu_v:.2f}')\n",
    "    \n",
    "    history[\"running_loss\"].append(running_loss)\n",
    "    history[\"running_loss_v\"].append(running_loss_v)\n",
    "    history[\"running_accu\"].append(running_accu)\n",
    "    history[\"running_accu_v\"].append(running_accu_v)"
   ]
  },
  {
   "cell_type": "code",
   "execution_count": null,
   "metadata": {},
   "outputs": [],
   "source": [
    "pickle.dump(history, open(\"../reports/model_5_v1.pkl\", 'wb'))"
   ]
  }
 ],
 "metadata": {
  "kernelspec": {
   "display_name": "Python 3",
   "language": "python",
   "name": "python3"
  },
  "language_info": {
   "codemirror_mode": {
    "name": "ipython",
    "version": 3
   },
   "file_extension": ".py",
   "mimetype": "text/x-python",
   "name": "python",
   "nbconvert_exporter": "python",
   "pygments_lexer": "ipython3",
   "version": "3.7.3"
  }
 },
 "nbformat": 4,
 "nbformat_minor": 4
}
