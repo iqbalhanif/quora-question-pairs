{
 "cells": [
  {
   "cell_type": "code",
   "execution_count": null,
   "metadata": {},
   "outputs": [],
   "source": [
    "import os\n",
    "import glob\n",
    "import pickle\n",
    "import string\n",
    "from datetime import datetime\n",
    "from tqdm import tqdm, notebook\n",
    "\n",
    "from cleansing import clean_text\n",
    "\n",
    "import pandas as pd\n",
    "import numpy as np\n",
    "import scipy\n",
    "from nltk.tokenize import word_tokenize\n",
    "from nltk.corpus import stopwords\n",
    "\n",
    "from sklearn.feature_extraction.text import CountVectorizer, TfidfVectorizer\n",
    "from catboost import CatBoostClassifier\n",
    "from xgboost import XGBClassifier\n",
    "from sklearn.metrics import accuracy_score, precision_score, recall_score, f1_score"
   ]
  },
  {
   "cell_type": "code",
   "execution_count": null,
   "metadata": {},
   "outputs": [],
   "source": [
    "tqdm.pandas()"
   ]
  },
  {
   "cell_type": "code",
   "execution_count": null,
   "metadata": {},
   "outputs": [],
   "source": [
    "from nltk.corpus import stopwords"
   ]
  },
  {
   "cell_type": "code",
   "execution_count": null,
   "metadata": {},
   "outputs": [],
   "source": [
    "split_folders = glob.glob('../data/cross_validation_data/*')"
   ]
  },
  {
   "cell_type": "code",
   "execution_count": null,
   "metadata": {},
   "outputs": [],
   "source": [
    "def read_csv(path):\n",
    "    d_data = pd.read_csv(path, sep='\\t')\n",
    "    \n",
    "    return d_data\n",
    "\n",
    "def remove_row_nan(df):\n",
    "    df = df.dropna(axis = 0)\n",
    "    return df\n",
    "\n",
    "table = str.maketrans('', '', string.punctuation)\n",
    "\n",
    "def remove_punctuation(text):\n",
    "    return text.translate(table)\n",
    "\n",
    "def simple_cleansing(text):\n",
    "    text = text.lower()\n",
    "    text = remove_punctuation(text)\n",
    "    stopword = stopwords.words('english')\n",
    "    word_list = text.split()\n",
    "    word_clean = [word for word in word_list if word not in stopword]\n",
    "    text = \" \".join(word_clean)\n",
    "    \n",
    "    return text"
   ]
  },
  {
   "cell_type": "code",
   "execution_count": null,
   "metadata": {},
   "outputs": [],
   "source": [
    "def transform(train, test, vectorizer):\n",
    "    vec = vectorizer()\n",
    "    train_feat = vec.fit_transform(train)\n",
    "    test_feat = vec.transform(test)\n",
    "    \n",
    "    return (vec, train_feat, test_feat)"
   ]
  },
  {
   "cell_type": "code",
   "execution_count": null,
   "metadata": {},
   "outputs": [],
   "source": [
    "def concat(q1, q2):\n",
    "    return scipy.sparse.hstack((q1, q2))"
   ]
  },
  {
   "cell_type": "code",
   "execution_count": null,
   "metadata": {},
   "outputs": [],
   "source": [
    "def metrics(y_true, y_pred):\n",
    "    accu = accuracy_score(y_true, y_pred)\n",
    "    prec = precision_score(y_true, y_pred)\n",
    "    reca = recall_score(y_true, y_pred)\n",
    "    f1 = f1_score(y_true, y_pred)\n",
    "    \n",
    "    return {\"accuracy\": accu, \"precision\": prec, \"recall\": reca, \"f1_score\": f1}"
   ]
  },
  {
   "cell_type": "code",
   "execution_count": null,
   "metadata": {},
   "outputs": [],
   "source": [
    "def model(x_train, x_test, y_train, y_test, algo):\n",
    "    algo.fit(x_train, y_train)\n",
    "    y_pred = algo.predict(x_test)\n",
    "    \n",
    "    score_dict = metrics(y_test, y_pred)\n",
    "    \n",
    "    return score_dict"
   ]
  },
  {
   "cell_type": "code",
   "execution_count": null,
   "metadata": {},
   "outputs": [],
   "source": [
    "def model_wrapper(x_train, x_test, y_train, y_test, split_index, feat):\n",
    "    score_list = []\n",
    "    print(\"\\tXGBoost\")\n",
    "    score_dict = model(x_train, x_test, y_train, y_test, XGBClassifier())\n",
    "    score_dict[\"split_index\"] = split_index\n",
    "    score_dict[\"model\"] = \"xgboost\"\n",
    "    score_dict[\"feature\"] = feat\n",
    "    score_list.append(score_dict)\n",
    "    \n",
    "    print(\"\\tCatboost\")\n",
    "    score_dict = model(x_train, x_test, y_train, y_test, CatBoostClassifier(verbose=False))\n",
    "    score_dict[\"split_index\"] = split_index\n",
    "    score_dict[\"model\"] = \"catboost\"\n",
    "    score_dict[\"feature\"] = feat\n",
    "    score_list.append(score_dict)\n",
    "    \n",
    "    return score_list"
   ]
  },
  {
   "cell_type": "code",
   "execution_count": null,
   "metadata": {},
   "outputs": [],
   "source": [
    "test = False"
   ]
  },
  {
   "cell_type": "code",
   "execution_count": null,
   "metadata": {},
   "outputs": [],
   "source": [
    "score_list = []\n",
    "for split_index, path in enumerate(split_folders, 1):\n",
    "    test_path, train_path = glob.glob(os.path.join(path, '*'))\n",
    "    print(\"step 1/7 :read data\")\n",
    "    d_train, d_test = read_csv(train_path), read_csv(test_path)\n",
    "    print(\"step 2/7 :remove nan\")\n",
    "    d_train, d_test = remove_row_nan(d_train), remove_row_nan(d_test)\n",
    "    d_train = d_train.sample(frac=1)\n",
    "    d_test = d_test.sample(frac=1)\n",
    "    d_train.reset_index(inplace=True)\n",
    "    d_test.reset_index(inplace=True)\n",
    "    \n",
    "    if test:\n",
    "        d_train = d_train.loc[:99, :]\n",
    "        d_test = d_test.loc[:99, :]\n",
    "\n",
    "    ## cleansing step\n",
    "    print(\"step 3/7 :cleansing...\")\n",
    "    d_train[\"q1_clean\"] = d_train.question1.apply(clean_text)\n",
    "    d_train[\"q2_clean\"] = d_train.question2.apply(clean_text)\n",
    "    d_test[\"q1_clean\"] = d_test.question1.apply(clean_text)\n",
    "    d_test[\"q2_clean\"] = d_test.question2.apply(clean_text)\n",
    "    \n",
    "    y_train = d_train.is_duplicate.values\n",
    "    y_test = d_test.is_duplicate.values\n",
    "    \n",
    "    ## transformation step\n",
    "    print(\"step 4/7 :transforming cv...\")\n",
    "    cv_q1, x_train_q1, x_test_q1 = transform(d_train.q1_clean, d_test.q1_clean, CountVectorizer)\n",
    "    cv_q2, x_train_q2, x_test_q2 = transform(d_train.q2_clean, d_test.q2_clean, CountVectorizer)\n",
    "    \n",
    "    x_train = concat(x_train_q1, x_train_q2)\n",
    "    x_test = concat(x_test_q1, x_test_q2)\n",
    "    \n",
    "    ## modeling\n",
    "    print(\"step 5/7 :fitting...\")\n",
    "    feat = \"count vectorizer\"\n",
    "    scores = model_wrapper(x_train, x_test, y_train, y_test, split_index, feat)\n",
    "    score_list.extend(scores)\n",
    "    \n",
    "    print(\"step 6/7 :transforming tfidf...\")\n",
    "    cv_q1, x_train_q1, x_test_q1 = transform(d_train.q1_clean, d_test.q1_clean, TfidfVectorizer)\n",
    "    cv_q2, x_train_q2, x_test_q2 = transform(d_train.q2_clean, d_test.q2_clean, TfidfVectorizer)\n",
    "    \n",
    "    x_train = concat(x_train_q1, x_train_q2)\n",
    "    x_test = concat(x_test_q1, x_test_q2)\n",
    "    \n",
    "    print(\"step 7/7 :fitting...\")\n",
    "    feat = \"tfidf\"\n",
    "    scores = model_wrapper(x_train, x_test, y_train, y_test, split_index, feat)\n",
    "    score_list.extend(scores)\n",
    "    \n",
    "    print(\"done...\")"
   ]
  },
  {
   "cell_type": "code",
   "execution_count": null,
   "metadata": {},
   "outputs": [],
   "source": [
    "today = datetime.today().strftime('%d-%m-%Y')\n",
    "pickle.dump(score_list, open('../reports/{}_reports.pkl'.format(today), 'wb'))"
   ]
  },
  {
   "cell_type": "code",
   "execution_count": null,
   "metadata": {},
   "outputs": [],
   "source": []
  }
 ],
 "metadata": {
  "kernelspec": {
   "display_name": "Python 3",
   "language": "python",
   "name": "python3"
  },
  "language_info": {
   "codemirror_mode": {
    "name": "ipython",
    "version": 3
   },
   "file_extension": ".py",
   "mimetype": "text/x-python",
   "name": "python",
   "nbconvert_exporter": "python",
   "pygments_lexer": "ipython3",
   "version": "3.7.3"
  }
 },
 "nbformat": 4,
 "nbformat_minor": 4
}
